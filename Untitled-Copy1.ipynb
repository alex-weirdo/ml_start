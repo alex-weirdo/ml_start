{
 "cells": [
  {
   "cell_type": "code",
   "execution_count": 9,
   "metadata": {},
   "outputs": [
    {
     "name": "stdout",
     "output_type": "stream",
     "text": [
      "0.246956005692482\n"
     ]
    },
    {
     "data": {
      "image/png": "[encoded data removed]",
      "text/plain": [
       "<Figure size 936x360 with 1 Axes>"
      ]
     },
     "metadata": {
      "needs_background": "light"
     },
     "output_type": "display_data"
    }
   ],
   "source": [
    "%matplotlib inline\n",
    "import torch\n",
    "import matplotlib.pyplot as plt\n",
    "import matplotlib\n",
    "matplotlib.rcParams['figure.figsize'] = (13.0, 5.0)\n",
    "\n",
    "import random\n",
    "import numpy as np\n",
    "random.seed(7)\n",
    "np.random.seed(7)\n",
    "torch.manual_seed(7)\n",
    "\n",
    "import math\n",
    "\n",
    "\n",
    "class RegressionNet(torch.nn.Module):\n",
    "    def __init__(self, n_hidden_neurons):\n",
    "        super(RegressionNet, self).__init__()\n",
    "        self.fc1 = torch.nn.Linear(1, 3)\n",
    "        self.act1 = torch.nn.Tanh()\n",
    "        self.act2 = torch.nn.ReLU()\n",
    "        self.fc2 = torch.nn.Linear(3, n_hidden_neurons)\n",
    "        self.fc3 = torch.nn.Linear(n_hidden_neurons, n_hidden_neurons)\n",
    "#         self.fc4 = torch.nn.Linear(n_hidden_neurons, n_hidden_neurons)\n",
    "#         self.fc5 = torch.nn.Linear(n_hidden_neurons, n_hidden_neurons)\n",
    "#         self.fc6 = torch.nn.Linear(n_hidden_neurons, n_hidden_neurons)\n",
    "#         self.fc7 = torch.nn.Linear(n_hidden_neurons, n_hidden_neurons)\n",
    "        self.fc8 = torch.nn.Linear(n_hidden_neurons, 1)\n",
    "    \n",
    "    def forward (self, x):\n",
    "        x = self.fc1(x)\n",
    "        x = self.act2(x)\n",
    "        x = self.fc2(x)\n",
    "        x = self.act2(x)\n",
    "        x = self.fc3(x)\n",
    "        x = self.act2(x)\n",
    "#         x = self.fc4(x)\n",
    "#         x = self.act1(x)\n",
    "#         x = self.fc5(x)\n",
    "#         x = self.act1(x)\n",
    "#         x = self.fc6(x)\n",
    "#         x = self.act1(x)\n",
    "#         x = self.fc7(x)\n",
    "#         x = self.act1(x)\n",
    "        x = self.fc8(x)\n",
    "        \n",
    "        return x\n",
    "\n",
    "net = RegressionNet(50)\n",
    "\n",
    "def target_function(x):\n",
    "#     return -3**x * torch.sin(2**-x)\n",
    "#     return ((x**(4/3)-4*(x**2)+4)**(1/2))*20\n",
    "      return (x)**(2)\n",
    "\n",
    "# ------Dataset preparation start--------:\n",
    "x_train =  torch.linspace(-10, 5, 100)\n",
    "y_train = target_function(x_train)\n",
    "noise = torch.randn(y_train.shape) / 100.\n",
    "y_train = y_train + 0\n",
    "x_train.unsqueeze_(1)\n",
    "y_train.unsqueeze_(1)\n",
    "\n",
    "x_validation = torch.linspace(-10, 5, 100)\n",
    "y_validation = target_function(x_validation)\n",
    "x_validation.unsqueeze_(1)\n",
    "y_validation.unsqueeze_(1)\n",
    "# ------Dataset preparation end--------:\n",
    "\n",
    "def metric(pred, target):\n",
    "    return (pred - target).abs().mean()\n",
    "\n",
    "optimizer = torch.optim.Adam(net.parameters(), lr=0.001)\n",
    "\n",
    "def loss(pred, target):\n",
    "    squares = (pred - target) ** 2\n",
    "    return squares.mean()\n",
    "  \n",
    "def predict(net, x, y):\n",
    "    y_pred = net.forward(x)\n",
    "\n",
    "    #plt.xlim (-1.5, 1.5)\n",
    "    #plt.ylim (-1.5, 1.5)\n",
    "    plt.plot(x.numpy(), y.numpy(), 'o', label='Groud truth')\n",
    "    plt.plot(x.numpy(), y_pred.data.numpy(), 'o', c='r', label='Prediction');\n",
    "    plt.legend(loc='upper left')\n",
    "    plt.xlabel('$x$')\n",
    "    plt.ylabel('$y$')\n",
    "\n",
    "for epoch_index in range( 1500 ):\n",
    "    optimizer.zero_grad()\n",
    "\n",
    "    y_pred = net.forward(x_train)\n",
    "    loss_value = loss(y_pred, y_train)\n",
    "    loss_value.backward()\n",
    "    optimizer.step()\n",
    "    \n",
    "print(metric(net.forward(x_validation), y_validation).item())\n",
    "\n",
    "predict(net, x_validation, y_validation)"
   ]
  },
  {
   "cell_type": "code",
   "execution_count": 7,
   "metadata": {},
   "outputs": [],
   "source": [
    "import matplotlib.pyplot as plt\n",
    "import matplotlib\n",
    "matplotlib.rcParams['figure.figsize'] = (13.0, 5.0)"
   ]
  },
  {
   "cell_type": "code",
   "execution_count": 8,
   "metadata": {},
   "outputs": [],
   "source": [
    "import numpy"
   ]
  },
  {
   "cell_type": "code",
   "execution_count": null,
   "metadata": {},
   "outputs": [],
   "source": []
  }
 ],
 "metadata": {
  "kernelspec": {
   "display_name": "Python 3",
   "language": "python",
   "name": "python3"
  },
  "language_info": {
   "codemirror_mode": {
    "name": "ipython",
    "version": 3
   },
   "file_extension": ".py",
   "mimetype": "text/x-python",
   "name": "python",
   "nbconvert_exporter": "python",
   "pygments_lexer": "ipython3",
   "version": "3.7.3"
  }
 },
 "nbformat": 4,
 "nbformat_minor": 2
}
