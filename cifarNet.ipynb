{
 "cells": [
  {
   "cell_type": "markdown",
   "metadata": {
    "colab_type": "text",
    "id": "cdjn6pICZMoM"
   },
   "source": [
    "![alt text](https://engmrk.com/wp-content/uploads/2018/09/LeNet_Original_Image.jpg)"
   ]
  },
  {
   "cell_type": "markdown",
   "metadata": {
    "colab_type": "text",
    "id": "14icu4JgZXqM"
   },
   "source": [
    "![alt text](https://engmrk.com/wp-content/uploads/2018/09/LeNEt_Summary_Table.jpg)"
   ]
  },
  {
   "cell_type": "code",
   "execution_count": 1,
   "metadata": {
    "colab": {},
    "colab_type": "code",
    "id": "85_HkTjcNZeg"
   },
   "outputs": [],
   "source": [
    "import torch\n",
    "import random\n",
    "import numpy as np\n",
    "\n",
    "random.seed(0)\n",
    "np.random.seed(0)\n",
    "torch.manual_seed(0)\n",
    "torch.cuda.manual_seed(0)\n",
    "torch.backends.cudnn.deterministic = True"
   ]
  },
  {
   "cell_type": "code",
   "execution_count": 2,
   "metadata": {
    "colab": {},
    "colab_type": "code",
    "id": "kjPVw9UfNZel"
   },
   "outputs": [],
   "source": [
    "import torchvision.datasets"
   ]
  },
  {
   "cell_type": "code",
   "execution_count": 4,
   "metadata": {
    "colab": {
     "base_uri": "https://localhost:8080/",
     "height": 52
    },
    "colab_type": "code",
    "id": "buWKcUqGNZeo",
    "outputId": "2270c03a-9483-4853-eecf-f2708dc6a24b",
    "scrolled": false
   },
   "outputs": [
    {
     "name": "stdout",
     "output_type": "stream",
     "text": [
      "Files already downloaded and verified\n",
      "Files already downloaded and verified\n"
     ]
    }
   ],
   "source": [
    "CIFAR_train = torchvision.datasets.CIFAR10('./', download=True, train=True)\n",
    "CIFAR_test = torchvision.datasets.CIFAR10('./', download=True, train=False)"
   ]
  },
  {
   "cell_type": "code",
   "execution_count": 5,
   "metadata": {
    "colab": {},
    "colab_type": "code",
    "id": "nyrpGOtPNZeq"
   },
   "outputs": [],
   "source": [
    "X_train = torch.FloatTensor(CIFAR_train.data)\n",
    "y_train = torch.LongTensor(CIFAR_train.targets)\n",
    "X_test = torch.FloatTensor(CIFAR_test.data)\n",
    "y_test = torch.LongTensor(CIFAR_test.targets)"
   ]
  },
  {
   "cell_type": "code",
   "execution_count": 6,
   "metadata": {
    "colab": {
     "base_uri": "https://localhost:8080/",
     "height": 35
    },
    "colab_type": "code",
    "id": "f_TmOTWdNZet",
    "outputId": "052ed2ed-d537-487b-de48-19f42e30e2a5"
   },
   "outputs": [
    {
     "data": {
      "text/plain": [
       "(50000, 10000)"
      ]
     },
     "execution_count": 6,
     "metadata": {},
     "output_type": "execute_result"
    }
   ],
   "source": [
    "len(y_train), len(y_test)"
   ]
  },
  {
   "cell_type": "code",
   "execution_count": 7,
   "metadata": {
    "colab": {
     "base_uri": "https://localhost:8080/",
     "height": 35
    },
    "colab_type": "code",
    "id": "1jO70446IcHO",
    "outputId": "f1aede62-d32a-4bb1-a350-6b19d7dcba50"
   },
   "outputs": [
    {
     "data": {
      "text/plain": [
       "(tensor(0.), tensor(255.))"
      ]
     },
     "execution_count": 7,
     "metadata": {},
     "output_type": "execute_result"
    }
   ],
   "source": [
    "X_train.min(), X_train.max()"
   ]
  },
  {
   "cell_type": "code",
   "execution_count": 8,
   "metadata": {
    "colab": {},
    "colab_type": "code",
    "id": "JRhygHp5Id7C"
   },
   "outputs": [],
   "source": [
    "X_train /= 255.\n",
    "X_test /= 255."
   ]
  },
  {
   "cell_type": "code",
   "execution_count": 9,
   "metadata": {
    "colab": {
     "base_uri": "https://localhost:8080/",
     "height": 193
    },
    "colab_type": "code",
    "id": "ZjhxEB4DUIss",
    "outputId": "4294a3df-a616-485e-e74f-7e16d1657bbf"
   },
   "outputs": [
    {
     "data": {
      "text/plain": [
       "['airplane',\n",
       " 'automobile',\n",
       " 'bird',\n",
       " 'cat',\n",
       " 'deer',\n",
       " 'dog',\n",
       " 'frog',\n",
       " 'horse',\n",
       " 'ship',\n",
       " 'truck']"
      ]
     },
     "execution_count": 9,
     "metadata": {},
     "output_type": "execute_result"
    }
   ],
   "source": [
    "CIFAR_train.classes"
   ]
  },
  {
   "cell_type": "code",
   "execution_count": 10,
   "metadata": {
    "colab": {
     "base_uri": "https://localhost:8080/",
     "height": 211
    },
    "colab_type": "code",
    "id": "Zd-E4vIpNZe1",
    "outputId": "5348f6b4-7a21-423f-e7fb-bfba6f64d8c9"
   },
   "outputs": [
    {
     "name": "stdout",
     "output_type": "stream",
     "text": [
      "tensor(6) tensor(9) tensor(9) tensor(4) tensor(1) tensor(1) tensor(2) tensor(7) tensor(8) tensor(3) "
     ]
    }
   ],
   "source": [
    "import matplotlib.pyplot as plt\n",
    "plt.figure(figsize=(20,2))\n",
    "for i in range(10):\n",
    "    plt.subplot(1, 10, i+1)\n",
    "    plt.imshow(X_train[i])\n",
    "    print(y_train[i], end=' ')"
   ]
  },
  {
   "cell_type": "code",
   "execution_count": 11,
   "metadata": {
    "colab": {
     "base_uri": "https://localhost:8080/",
     "height": 35
    },
    "colab_type": "code",
    "id": "AylTXltFIluJ",
    "outputId": "40e74259-135e-4f58-8452-7acfa956297d"
   },
   "outputs": [
    {
     "data": {
      "text/plain": [
       "(torch.Size([50000, 32, 32, 3]), torch.Size([50000]))"
      ]
     },
     "execution_count": 11,
     "metadata": {},
     "output_type": "execute_result"
    }
   ],
   "source": [
    "X_train.shape, y_train.shape"
   ]
  },
  {
   "cell_type": "code",
   "execution_count": 12,
   "metadata": {
    "colab": {},
    "colab_type": "code",
    "id": "LIAbtrWoIt5I"
   },
   "outputs": [],
   "source": [
    "X_train = X_train.permute(0, 3, 1, 2)\n",
    "X_test = X_test.permute(0, 3, 1, 2)"
   ]
  },
  {
   "cell_type": "code",
   "execution_count": 13,
   "metadata": {
    "colab": {
     "base_uri": "https://localhost:8080/",
     "height": 35
    },
    "colab_type": "code",
    "id": "tRxsQJZ1JQYC",
    "outputId": "0812a5fd-f176-4046-aeff-78634acdcc3a"
   },
   "outputs": [
    {
     "data": {
      "text/plain": [
       "torch.Size([50000, 3, 32, 32])"
      ]
     },
     "execution_count": 13,
     "metadata": {},
     "output_type": "execute_result"
    }
   ],
   "source": [
    "X_train.shape"
   ]
  },
  {
   "cell_type": "code",
   "execution_count": 14,
   "metadata": {
    "colab": {},
    "colab_type": "code",
    "id": "xhsw9soDODel"
   },
   "outputs": [],
   "source": [
    "class LeNet5(torch.nn.Module):\n",
    "    def __init__(self,\n",
    "                 activation='tanh',\n",
    "                 pooling='avg',\n",
    "                 conv_size=5, \n",
    "                 use_batch_norm=False):\n",
    "        super(LeNet5, self).__init__()\n",
    "        \n",
    "        self.conv_size = conv_size\n",
    "        self.use_batch_norm = use_batch_norm\n",
    "        \n",
    "        if activation == 'tanh':\n",
    "            activation_function = torch.nn.Tanh()\n",
    "        elif activation == 'relu':\n",
    "            activation_function  = torch.nn.ReLU()\n",
    "        else:\n",
    "            raise NotImplementedError\n",
    "            \n",
    "        if pooling == 'avg':\n",
    "            pooling_layer = torch.nn.AvgPool2d(kernel_size=2, stride=2)\n",
    "        elif pooling == 'max':\n",
    "            pooling_layer  = torch.nn.MaxPool2d(kernel_size=2, stride=2)\n",
    "        else:\n",
    "            raise NotImplementedError\n",
    "        \n",
    "        if conv_size == 5:\n",
    "            self.conv1 = torch.nn.Conv2d(\n",
    "                in_channels=3, out_channels=6, kernel_size=5, padding=0)\n",
    "        elif conv_size == 3:\n",
    "            self.conv1_1 = torch.nn.Conv2d(\n",
    "                in_channels=3, out_channels=6, kernel_size=3, padding=0)\n",
    "            self.conv1_2 = torch.nn.Conv2d(\n",
    "                in_channels=6, out_channels=6, kernel_size=3, padding=0)\n",
    "        else:\n",
    "            raise NotImplementedError\n",
    "\n",
    "        self.act1 = activation_function\n",
    "        self.bn1 = torch.nn.BatchNorm2d(num_features=6)\n",
    "        self.pool1 = pooling_layer\n",
    "       \n",
    "        if conv_size == 5:\n",
    "            self.conv2 = self.conv2 = torch.nn.Conv2d(\n",
    "                in_channels=6, out_channels=16, kernel_size=5, padding=0)\n",
    "        elif conv_size == 3:\n",
    "            self.conv2_1 = torch.nn.Conv2d(\n",
    "                in_channels=6, out_channels=16, kernel_size=3, padding=0)\n",
    "            self.conv2_2 = torch.nn.Conv2d(\n",
    "                in_channels=16, out_channels=16, kernel_size=3, padding=0)\n",
    "        else:\n",
    "            raise NotImplementedError\n",
    "\n",
    "        self.act2 = activation_function\n",
    "        self.bn2 = torch.nn.BatchNorm2d(num_features=16)\n",
    "        self.pool2 = pooling_layer\n",
    "        \n",
    "        self.fc1 = torch.nn.Linear(5 * 5 * 16, 120)\n",
    "        self.act3 = activation_function\n",
    "    \n",
    "        self.fc2 = torch.nn.Linear(120, 84)\n",
    "        self.act4 = activation_function\n",
    "        \n",
    "        self.fc3 = torch.nn.Linear(84, 10)\n",
    "    \n",
    "    def forward(self, x):\n",
    "        if self.conv_size == 5:\n",
    "            x = self.conv1(x)\n",
    "        elif self.conv_size == 3:\n",
    "            x = self.conv1_2(self.conv1_1(x))\n",
    "        x = self.act1(x)\n",
    "        if self.use_batch_norm:\n",
    "            x = self.bn1(x)\n",
    "        x = self.pool1(x)\n",
    "        \n",
    "        if self.conv_size == 5:\n",
    "            x = self.conv2(x)\n",
    "        elif self.conv_size == 3:\n",
    "            x = self.conv2_2(self.conv2_1(x))\n",
    "        x = self.act2(x)\n",
    "        if self.use_batch_norm:\n",
    "            x = self.bn2(x)\n",
    "        x = self.pool2(x)\n",
    "        \n",
    "        x = x.view(x.size(0), x.size(1) * x.size(2) * x.size(3))\n",
    "        x = self.fc1(x)\n",
    "        x = self.act3(x)\n",
    "        x = self.fc2(x)\n",
    "        x = self.act4(x)\n",
    "        x = self.fc3(x)\n",
    "        \n",
    "        return x"
   ]
  },
  {
   "cell_type": "code",
   "execution_count": 24,
   "metadata": {
    "colab": {
     "base_uri": "https://localhost:8080/",
     "height": 2657
    },
    "colab_type": "code",
    "id": "XfA9gqSdNZfQ",
    "outputId": "810e5ce7-9873-403a-9084-7dc37b462a13"
   },
   "outputs": [],
   "source": [
    "def train(net, X_train, y_train, X_test, y_test):\n",
    "    device = torch.device('cuda:0' if torch.cuda.is_available() else 'cpu')\n",
    "    net = net.to(device)\n",
    "    loss = torch.nn.CrossEntropyLoss()\n",
    "    optimizer = torch.optim.Adam(net.parameters(), lr=1.0e-3)\n",
    "    \n",
    "    batch_size = 100\n",
    "\n",
    "    test_accuracy_history = []\n",
    "    test_loss_history = []\n",
    "\n",
    "    X_test = X_test.to(device)\n",
    "    y_test = y_test.to(device)\n",
    "\n",
    "    for epoch in range(3):\n",
    "        order = np.random.permutation(len(X_train))\n",
    "        for start_index in range(0, len(X_train), batch_size):\n",
    "            optimizer.zero_grad()\n",
    "            net.train()\n",
    "\n",
    "            batch_indexes = order[start_index:start_index+batch_size]\n",
    "\n",
    "            X_batch = X_train[batch_indexes].to(device)\n",
    "            y_batch = y_train[batch_indexes].to(device)\n",
    "\n",
    "            preds = net.forward(X_batch)\n",
    "\n",
    "            loss_value = loss(preds, y_batch)\n",
    "            loss_value.backward()\n",
    "\n",
    "            optimizer.step()\n",
    "            \n",
    "            X_batch\n",
    "\n",
    "        net.eval()\n",
    "        test_preds = net.forward(X_test)\n",
    "        test_loss_history.append(loss(test_preds, y_test).data.cpu())\n",
    "\n",
    "        accuracy = (test_preds.argmax(dim=1) == y_test).float().mean().data.cpu()\n",
    "        test_accuracy_history.append(accuracy)\n",
    "\n",
    "        print(accuracy)\n",
    "    del net\n",
    "    return test_accuracy_history, test_loss_history\n"
   ]
  },
  {
   "cell_type": "code",
   "execution_count": null,
   "metadata": {},
   "outputs": [],
   "source": [
    "accuracies = {}\n",
    "losses = {}\n",
    "\n",
    "accuracies['tanh'], losses['tanh'] = \\\n",
    "    train(LeNet5(activation='tanh', conv_size=5),\n",
    "          X_train, y_train, X_test, y_test)\n",
    "accuracies['relu'], losses['relu'] = \\\n",
    "    train(LeNet5(activation='relu', conv_size=5),\n",
    "          X_train, y_train, X_test, y_test)\n",
    "accuracies['relu_3'], losses['relu_3'] = \\\n",
    "    train(LeNet5(activation='relu', conv_size=3),\n",
    "          X_train, y_train, X_test, y_test)\n",
    "accuracies['relu_3_max_pool'], losses['relu_3_max_pool'] = \\\n",
    "    train(LeNet5(activation='relu', conv_size=3, pooling='max'), \n",
    "          X_train, y_train, X_test, y_test)\n",
    "accuracies['relu_3_max_pool_bn'], losses['relu_3_max_pool_bn'] = \\\n",
    "    train(LeNet5(activation='relu', conv_size=3, pooling='max', use_batch_norm=True), \n",
    "          X_train, y_train, X_test, y_test)"
   ]
  },
  {
   "cell_type": "code",
   "execution_count": 17,
   "metadata": {
    "colab": {
     "base_uri": "https://localhost:8080/",
     "height": 362
    },
    "colab_type": "code",
    "id": "4FDtagQvNZfU",
    "outputId": "81dc5fb1-3715-4f57-afb2-4f3434552280"
   },
   "outputs": [
    {
     "data": {
      "image/png": "[encoded data removed]",
      "text/plain": [
       "<Figure size 432x288 with 1 Axes>"
      ]
     },
     "metadata": {
      "needs_background": "light"
     },
     "output_type": "display_data"
    }
   ],
   "source": [
    "for experiment_id in accuracies.keys():\n",
    "    plt.plot(accuracies[experiment_id], label=experiment_id)\n",
    "plt.legend()\n",
    "plt.title('Validation Accuracy');"
   ]
  },
  {
   "cell_type": "code",
   "execution_count": 18,
   "metadata": {
    "colab": {
     "base_uri": "https://localhost:8080/",
     "height": 362
    },
    "colab_type": "code",
    "id": "lhgYxVChySw_",
    "outputId": "9362a98a-7645-4482-8e64-5792c46ab4e0"
   },
   "outputs": [
    {
     "data": {
      "image/png": "[encoded data removed]",
      "text/plain": [
       "<Figure size 432x288 with 1 Axes>"
      ]
     },
     "metadata": {
      "needs_background": "light"
     },
     "output_type": "display_data"
    }
   ],
   "source": [
    "for experiment_id in losses.keys():\n",
    "    plt.plot(losses[experiment_id], label=experiment_id)\n",
    "plt.legend()\n",
    "plt.title('Validation Loss');"
   ]
  },
  {
   "cell_type": "code",
   "execution_count": 25,
   "metadata": {
    "colab": {},
    "colab_type": "code",
    "id": "9RunsQU1Ll27"
   },
   "outputs": [],
   "source": [
    "class CIFARNet(torch.nn.Module):\n",
    "    def __init__(self):\n",
    "        super(CIFARNet, self).__init__()\n",
    "        self.batch_norm0 = torch.nn.BatchNorm2d(3)\n",
    "\n",
    "        self.conv1 = torch.nn.Conv2d(3, 16, 3, padding=1)\n",
    "        self.act1  = torch.nn.ReLU()\n",
    "        self.batch_norm1 = torch.nn.BatchNorm2d(16)\n",
    "        self.pool1 = torch.nn.MaxPool2d(2, 2)\n",
    "        \n",
    "        self.conv2 = torch.nn.Conv2d(16, 32, 3, padding=1)\n",
    "        self.act2  = torch.nn.ReLU()\n",
    "        self.batch_norm2 = torch.nn.BatchNorm2d(32)\n",
    "        self.pool2 = torch.nn.MaxPool2d(2, 2)\n",
    "        \n",
    "        self.conv3 = torch.nn.Conv2d(32, 64, 3, padding=1)\n",
    "        self.act3  = torch.nn.ReLU()\n",
    "        self.batch_norm3 = torch.nn.BatchNorm2d(64)\n",
    "\n",
    "        self.fc1   = torch.nn.Linear(8 * 8 * 64, 256)\n",
    "        self.act4  = torch.nn.Tanh()\n",
    "        self.batch_norm4 = torch.nn.BatchNorm1d(256)\n",
    "        \n",
    "        self.fc2   = torch.nn.Linear(256, 64)\n",
    "        self.act5  = torch.nn.Tanh()\n",
    "        self.batch_norm5 = torch.nn.BatchNorm1d(64)\n",
    "        \n",
    "        self.fc3   = torch.nn.Linear(64, 10)\n",
    "    \n",
    "    def forward(self, x):\n",
    "        x = self.batch_norm0(x)\n",
    "        x = self.conv1(x)\n",
    "        x = self.act1(x)\n",
    "        x = self.batch_norm1(x)\n",
    "        x = self.pool1(x)\n",
    "        \n",
    "        x = self.conv2(x)\n",
    "        x = self.act2(x)\n",
    "        x = self.batch_norm2(x)\n",
    "        x = self.pool2(x)\n",
    "        \n",
    "        x = self.conv3(x)\n",
    "        x = self.act3(x)\n",
    "        x = self.batch_norm3(x)\n",
    "        \n",
    "        x = x.view(x.size(0), x.size(1) * x.size(2) * x.size(3))\n",
    "        x = self.fc1(x)\n",
    "        x = self.act4(x)\n",
    "        x = self.batch_norm4(x)\n",
    "        x = self.fc2(x)\n",
    "        x = self.act5(x)\n",
    "        x = self.batch_norm5(x)\n",
    "        x = self.fc3(x)\n",
    "        \n",
    "        return x"
   ]
  },
  {
   "cell_type": "code",
   "execution_count": 26,
   "metadata": {
    "colab": {
     "base_uri": "https://localhost:8080/",
     "height": 545
    },
    "colab_type": "code",
    "id": "3lIIDAzfAzhy",
    "outputId": "28e5f88a-ed04-4259-951b-c058c174255c"
   },
   "outputs": [
    {
     "name": "stdout",
     "output_type": "stream",
     "text": [
      "tensor(0.6519)\n",
      "tensor(0.7056)\n",
      "tensor(0.7153)\n"
     ]
    }
   ],
   "source": [
    "accuracies['cifar_net'], losses['cifar_net'] = \\\n",
    "    train(CIFARNet(), X_train, y_train, X_test, y_test)"
   ]
  },
  {
   "cell_type": "code",
   "execution_count": 27,
   "metadata": {
    "colab": {
     "base_uri": "https://localhost:8080/",
     "height": 362
    },
    "colab_type": "code",
    "id": "wS9rFm5QN3A7",
    "outputId": "c832af37-59f6-4b66-9e06-98f97d18d2b9"
   },
   "outputs": [
    {
     "data": {
      "image/png": "[encoded data removed]",
      "text/plain": [
       "<Figure size 432x288 with 1 Axes>"
      ]
     },
     "metadata": {
      "needs_background": "light"
     },
     "output_type": "display_data"
    }
   ],
   "source": [
    "for experiment_id in accuracies.keys():\n",
    "    plt.plot(accuracies[experiment_id], label=experiment_id)\n",
    "plt.legend()\n",
    "plt.title('Validation Accuracy');"
   ]
  },
  {
   "cell_type": "code",
   "execution_count": 28,
   "metadata": {
    "colab": {
     "base_uri": "https://localhost:8080/",
     "height": 362
    },
    "colab_type": "code",
    "id": "NsjCl2UNN3-r",
    "outputId": "c0b57c92-45d5-45a0-df6d-8bc69b90935b"
   },
   "outputs": [
    {
     "data": {
      "image/png": "[encoded data removed]",
      "text/plain": [
       "<Figure size 432x288 with 1 Axes>"
      ]
     },
     "metadata": {
      "needs_background": "light"
     },
     "output_type": "display_data"
    }
   ],
   "source": [
    "for experiment_id in losses.keys():\n",
    "    plt.plot(losses[experiment_id], label=experiment_id)\n",
    "plt.legend()\n",
    "plt.title('Validation Loss');"
   ]
  },
  {
   "cell_type": "code",
   "execution_count": 0,
   "metadata": {
    "colab": {},
    "colab_type": "code",
    "id": "nYndrqicTgBL"
   },
   "outputs": [],
   "source": []
  }
 ],
 "metadata": {
  "accelerator": "GPU",
  "colab": {
   "collapsed_sections": [],
   "name": "CIFAR Convolutional Video BatchNorm.ipynb",
   "provenance": [],
   "version": "0.3.2"
  },
  "kernelspec": {
   "display_name": "Python 3",
   "language": "python",
   "name": "python3"
  },
  "language_info": {
   "codemirror_mode": {
    "name": "ipython",
    "version": 3
   },
   "file_extension": ".py",
   "mimetype": "text/x-python",
   "name": "python",
   "nbconvert_exporter": "python",
   "pygments_lexer": "ipython3",
   "version": "3.7.3"
  }
 },
 "nbformat": 4,
 "nbformat_minor": 1
}
